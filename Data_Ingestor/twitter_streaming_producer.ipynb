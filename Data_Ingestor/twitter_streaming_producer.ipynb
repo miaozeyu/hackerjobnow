{
 "cells": [
  {
   "cell_type": "code",
   "execution_count": 245,
   "metadata": {},
   "outputs": [],
   "source": [
    "import tweepy\n",
    "from tweepy import OAuthHandler, Stream, StreamListener\n",
    "from accessconfig import *\n",
    "import json\n",
    "import boto3\n",
    "import logging\n",
    "import re\n",
    "import time"
   ]
  },
  {
   "cell_type": "markdown",
   "metadata": {},
   "source": [
    "1. Create a class inheriting from StreamListener\n",
    "2. Using that class create a Stream object\n",
    "3. Connect to the Twitter API using the Stream."
   ]
  },
  {
   "cell_type": "code",
   "execution_count": 9,
   "metadata": {},
   "outputs": [],
   "source": [
    "auth = OAuthHandler(consumer_key, consumer_secret)\n",
    "auth.set_access_token(access_token, access_secret)"
   ]
  },
  {
   "cell_type": "code",
   "execution_count": 249,
   "metadata": {},
   "outputs": [],
   "source": [
    "ny_nj = [-80, 40, -72, 45, -76, 39, -74, 41]"
   ]
  },
  {
   "cell_type": "code",
   "execution_count": 18,
   "metadata": {},
   "outputs": [],
   "source": [
    "def tweetParser(tweet):\n",
    "    selected = {\n",
    "                \"created_at\": tweet[\"created_at\"],\n",
    "                \"text\": tweet[\"text\"],\n",
    "                \"user_name\": tweet[\"user\"][\"name\"],\n",
    "                \"user_description\": tweet[\"user\"][\"description\"],\n",
    "                \"place\": tweet[\"place\"][\"full_name\"] if tweet[\"place\"] else None,\n",
    "                \"coordinates\": tweet[\"coordinates\"][\"coordinates\"] if tweet[\"coordinates\"] else None,\n",
    "                \"hashtags\": [hashtag[\"text\"] for hashtag in tweet[\"entities\"][\"hashtags\"]],\n",
    "                \"urls\": [url[\"expanded_url\"] for url in tweet[\"entities\"][\"urls\"]],\n",
    "               }\n",
    "\n",
    "    return selected"
   ]
  },
  {
   "cell_type": "code",
   "execution_count": 246,
   "metadata": {},
   "outputs": [],
   "source": [
    "class TweeterStreamListener(StreamListener):\n",
    "\n",
    "    def on_data(self, data):\n",
    "        all_data = json.loads(data)\n",
    "        tweet =  tweetParser(all_data)\n",
    "        created_at = tweet['created_at']\n",
    "        text = tweet['text']\n",
    "        hashtags = ''.join(tweet['hashtags'])\n",
    "        place = tweet['place']\n",
    "        coordinates = tweet['coordinates']\n",
    "        urls = tweet['urls']\n",
    "        \n",
    "        find_title = matchTitle(text)\n",
    "        find_skills = matchSkills(text)\n",
    "        find_skills_htag = matchSkills(hashtags)\n",
    "        find_city = matchLocation(text)\n",
    "        find_city_htag = matchLocation(hashtags)\n",
    "        find_type = matchFulltime(text)\n",
    "        find_type_htag = matchFulltime(hashtags)\n",
    "        \n",
    "        jobpost = {\n",
    "          \"city\": None,\n",
    "          \"company\": None,\n",
    "          \"date\": None,\n",
    "          \"job_title\": None,\n",
    "          \"job_type\": None,\n",
    "          \"links\": None,\n",
    "          \"technologies\": None,\n",
    "          \"text\": None\n",
    "        }\n",
    "        \n",
    "        jobpost['text'] = text\n",
    "        jobpost['date'] = created_at\n",
    "        if find_title or matchTitle(hashtags):\n",
    "            print(find_title)\n",
    "            jobpost[\"job_title\"] = ' '.join(find_title)\n",
    "            \n",
    "            if find_skills or find_skills_htag:\n",
    "                jobpost[\"technologies\"] = ','.join(find_skills or find_skills_htag)\n",
    "                \n",
    "            if find_city or find_city_htag or place or coordinates:\n",
    "                jobpost[\"city\"] = ','.join(find_city or find_city_htag) or place or coordinates\n",
    "            \n",
    "            if find_type or find_type_htag:\n",
    "                jobpost[\"job_type\"] = ','.join(find_type or find_type_htag)\n",
    "                \n",
    "            if urls:\n",
    "                jobpost[\"links\"] = ', '.join(urls)\n",
    "        \n",
    "            print(jobpost)\n",
    "            print(\"------------------------------------------------\")\n",
    "    \n",
    "\n",
    "    def on_error(self, status_code):\n",
    "        print(status_code)\n",
    "        if status_code == 420:\n",
    "            return False\n"
   ]
  },
  {
   "cell_type": "code",
   "execution_count": 248,
   "metadata": {},
   "outputs": [
    {
     "name": "stdout",
     "output_type": "stream",
     "text": [
      "['Software Engineer']\n",
      "{'city': None, 'company': None, 'date': 'Wed Apr 17 23:36:11 +0000 2019', 'job_title': 'Software Engineer', 'job_type': None, 'links': 'http://app.jobvite.com/m?3m6nokw2', 'technologies': None, 'text': 'ServiceNow is looking for: Staff Software Engineer\\nhttps://t.co/9KdXHmqswP #job'}\n",
      "------------------------------------------------\n",
      "['Sales Engineer']\n",
      "{'city': None, 'company': None, 'date': 'Wed Apr 17 23:37:53 +0000 2019', 'job_title': 'Sales Engineer', 'job_type': None, 'links': 'https://twitter.com/i/web/status/1118659880896929793', 'technologies': None, 'text': 'JOB: Los Angeles CA USA - Pre/Post Sales Engineer Database BigData Linux Cloud Software - Database Admini: Database… https://t.co/ow7xJuTG0M'}\n",
      "------------------------------------------------\n",
      "['Solutions Consultant']\n",
      "{'city': None, 'company': None, 'date': 'Wed Apr 17 23:38:01 +0000 2019', 'job_title': 'Solutions Consultant', 'job_type': None, 'links': 'https://twitter.com/i/web/status/1118659911041392640', 'technologies': None, 'text': 'JOB: us - Business Solutions Consultant - We are looking for high energy professionals with experience wo: We are l… https://t.co/kAK7o6ovGT'}\n",
      "------------------------------------------------\n"
     ]
    }
   ],
   "source": [
    "runtime = 180 #Tracking for 180  seconds\n",
    "twitterStream = Stream(auth, TweeterStreamListener())\n",
    "twitterStream.filter(languages=[\"en\"], track=['hiring','hire','looking for', 'job'], async=True)\n",
    "time.sleep(runtime)\n",
    "twitterStream.disconnect()"
   ]
  },
  {
   "cell_type": "code",
   "execution_count": 221,
   "metadata": {},
   "outputs": [],
   "source": [
    "#must match\n",
    "def matchTitle(txt):\n",
    "    find = re.findall(r\"(software|data|bi|business intelligence|sales|solutions)\\s?(engineer|developer|scientist|architect|consultant)\",txt,re.IGNORECASE)\n",
    "    if find:\n",
    "        find = [' '.join(tp) for tp in find]\n",
    "        return find\n",
    "    else:\n",
    "        return None"
   ]
  },
  {
   "cell_type": "code",
   "execution_count": 241,
   "metadata": {},
   "outputs": [],
   "source": [
    "#preferable\n",
    "def matchSkills(txt):\n",
    "    find = re.findall(r\"python|sql|sqlalchmey|flask|pandas|etl|aws|backend|spark|streaming|jinja\",txt,re.IGNORECASE)\n",
    "    if find:\n",
    "        return list(set(find))\n",
    "    else:\n",
    "        return None"
   ]
  },
  {
   "cell_type": "code",
   "execution_count": 225,
   "metadata": {},
   "outputs": [],
   "source": [
    "#optional\n",
    "def matchLocation(txt):\n",
    "    find = re.findall(r\"(new)\\s?(york)|(new)\\s?(jersey)|ny|nj|nyc|(jersey)\\s?(city)|hoboken|brooklyn\",txt,re.IGNORECASE)\n",
    "    if find:\n",
    "        find = [' '.join(tp) for tp in find]\n",
    "        return find\n",
    "    else:\n",
    "        return None"
   ]
  },
  {
   "cell_type": "code",
   "execution_count": null,
   "metadata": {},
   "outputs": [],
   "source": [
    "#optional: even if it's not in text, it's okay\n",
    "def matchFulltime(txt):\n",
    "    find = re.findall(r\"full(\\s|\\-)?time\",txt,re.IGNORECASE)\n",
    "    if find:\n",
    "        return find\n",
    "    else:\n",
    "        return None"
   ]
  },
  {
   "cell_type": "markdown",
   "metadata": {},
   "source": [
    "## Test"
   ]
  },
  {
   "cell_type": "code",
   "execution_count": null,
   "metadata": {},
   "outputs": [],
   "source": [
    "txt = \"‼️ We’re Hiring ‼️We are currently aws for an new York.data sales engineer software engineer #python etl sql sql\""
   ]
  },
  {
   "cell_type": "code",
   "execution_count": 222,
   "metadata": {},
   "outputs": [
    {
     "data": {
      "text/plain": [
       "['sales engineer', 'software engineer']"
      ]
     },
     "execution_count": 222,
     "metadata": {},
     "output_type": "execute_result"
    }
   ],
   "source": [
    "matchTi(txt)"
   ]
  },
  {
   "cell_type": "code",
   "execution_count": 242,
   "metadata": {},
   "outputs": [
    {
     "data": {
      "text/plain": [
       "['aws', 'sql', 'python', 'etl']"
      ]
     },
     "execution_count": 242,
     "metadata": {},
     "output_type": "execute_result"
    }
   ],
   "source": [
    "matchSkills(txt)"
   ]
  },
  {
   "cell_type": "code",
   "execution_count": 160,
   "metadata": {},
   "outputs": [],
   "source": [
    "a = None"
   ]
  },
  {
   "cell_type": "code",
   "execution_count": 161,
   "metadata": {},
   "outputs": [],
   "source": [
    "b = ['jersey city']"
   ]
  },
  {
   "cell_type": "code",
   "execution_count": 162,
   "metadata": {},
   "outputs": [],
   "source": [
    "c = 'newyork'"
   ]
  },
  {
   "cell_type": "code",
   "execution_count": 163,
   "metadata": {},
   "outputs": [
    {
     "data": {
      "text/plain": [
       "['jersey city']"
      ]
     },
     "execution_count": 163,
     "metadata": {},
     "output_type": "execute_result"
    }
   ],
   "source": [
    "a or b or c"
   ]
  },
  {
   "cell_type": "code",
   "execution_count": 167,
   "metadata": {},
   "outputs": [
    {
     "data": {
      "text/plain": [
       "'aws,python'"
      ]
     },
     "execution_count": 167,
     "metadata": {},
     "output_type": "execute_result"
    }
   ],
   "source": [
    "','.join(a or b or c)"
   ]
  },
  {
   "cell_type": "code",
   "execution_count": 169,
   "metadata": {},
   "outputs": [],
   "source": [
    "x = ['www.com', 'www.joemiao.com']"
   ]
  },
  {
   "cell_type": "code",
   "execution_count": 171,
   "metadata": {},
   "outputs": [
    {
     "data": {
      "text/plain": [
       "'www.com, www.joemiao.com'"
      ]
     },
     "execution_count": 171,
     "metadata": {},
     "output_type": "execute_result"
    }
   ],
   "source": [
    "', '.join(x)"
   ]
  },
  {
   "cell_type": "code",
   "execution_count": 207,
   "metadata": {},
   "outputs": [],
   "source": [
    "tp = [('sales', 'engineer'), ('software', 'engineer')]"
   ]
  },
  {
   "cell_type": "code",
   "execution_count": 210,
   "metadata": {},
   "outputs": [],
   "source": [
    "ashd = [' '.join(t) for t in tp]"
   ]
  },
  {
   "cell_type": "code",
   "execution_count": 211,
   "metadata": {},
   "outputs": [
    {
     "data": {
      "text/plain": [
       "['sales engineer', 'software engineer']"
      ]
     },
     "execution_count": 211,
     "metadata": {},
     "output_type": "execute_result"
    }
   ],
   "source": [
    "ashd"
   ]
  },
  {
   "cell_type": "code",
   "execution_count": null,
   "metadata": {},
   "outputs": [],
   "source": []
  }
 ],
 "metadata": {
  "kernelspec": {
   "display_name": "Python 3",
   "language": "python",
   "name": "python3"
  },
  "language_info": {
   "codemirror_mode": {
    "name": "ipython",
    "version": 3
   },
   "file_extension": ".py",
   "mimetype": "text/x-python",
   "name": "python",
   "nbconvert_exporter": "python",
   "pygments_lexer": "ipython3",
   "version": "3.6.4"
  }
 },
 "nbformat": 4,
 "nbformat_minor": 2
}
